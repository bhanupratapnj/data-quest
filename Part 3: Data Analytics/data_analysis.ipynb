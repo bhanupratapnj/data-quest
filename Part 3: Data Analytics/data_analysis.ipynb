{
 "cells": [
  {
   "cell_type": "code",
   "execution_count": 1,
   "id": "3b60ce99-0aca-460f-a1c7-1cd76dacbb7e",
   "metadata": {},
   "outputs": [],
   "source": [
    "# Import necessary libraries\n",
    "import pandas as pd\n",
    "import requests\n",
    "\n",
    "# Define the URLs for data sources\n",
    "# BLS labor productivity data (tab-delimited file) and U.S. population data (JSON file)\n",
    "BLS_PRODUCTIVITY_URL = \"https://rearc-dataquest-s3bucket.s3.amazonaws.com/pr.data.0.Current\"\n",
    "US_POPULATION_URL = \"https://rearc-dataquest-s3bucket.s3.amazonaws.com/nation_population.json\"\n",
    "\n",
    "# Load the Bureau of Labor Statistics productivity data from the S3 bucket\n",
    "bls_productivity_df = pd.read_csv(BLS_PRODUCTIVITY_URL, delimiter=\"\\t\")\n",
    "\n",
    "# Retrieve U.S. population data stored in JSON format from the S3 bucket\n",
    "response = requests.get(US_POPULATION_URL)\n",
    "population_json = response.json()\n",
    "\n",
    "# Convert the nested JSON data into a flat tabular format (Pandas DataFrame)\n",
    "us_population_df = pd.json_normalize(population_json, record_path=\"data\")\n"
   ]
  },
  {
   "cell_type": "code",
   "execution_count": 2,
   "id": "03a727ef-fa6f-4558-b21b-669f4823eb3b",
   "metadata": {},
   "outputs": [
    {
     "name": "stdout",
     "output_type": "stream",
     "text": [
      "U.S. Population Statistics (2013–2018):\n",
      "  • Average Population: 322,069,808\n",
      "  • Standard Deviation: 4,158,441\n"
     ]
    }
   ],
   "source": [
    "# Filter Population Data for Year Range 2013 to 2018\n",
    "# Convert the 'Year' column from string to integer\n",
    "filtered_population_df = us_population_df[\n",
    "    (us_population_df[\"Year\"].astype(int) >= 2013) &\n",
    "    (us_population_df[\"Year\"].astype(int) <= 2018)\n",
    "]\n",
    "# Calculate \n",
    "# - Mean: Represents the average U.S. population over the 2013–2018 period\n",
    "# - Standard Deviation: Indicates how much population values deviate from the mean\n",
    "average_population = filtered_population_df[\"Population\"].mean()\n",
    "population_std_dev = filtered_population_df[\"Population\"].std()\n",
    "\n",
    "# Display the results \n",
    "print(\"U.S. Population Statistics (2013–2018):\")\n",
    "print(f\"  • Average Population: {average_population:,.0f}\")\n",
    "print(f\"  • Standard Deviation: {population_std_dev:,.0f}\")"
   ]
  },
  {
   "cell_type": "code",
   "execution_count": 3,
   "id": "a23b4f33-ac75-4f49-9479-04dbb889e60a",
   "metadata": {},
   "outputs": [
    {
     "name": "stdout",
     "output_type": "stream",
     "text": [
      "['series_id        ', 'year', 'period', '       value', 'footnote_codes']\n"
     ]
    }
   ],
   "source": [
    "# Display the current list of column names to identify any spacing issues\n",
    "print(bls_productivity_df.columns.tolist())"
   ]
  },
  {
   "cell_type": "code",
   "execution_count": 4,
   "id": "105293f6-8f83-4b48-84cf-3cffdec66d7a",
   "metadata": {},
   "outputs": [],
   "source": [
    "# Clean up whitespace around column names - series_id and value\n",
    "bls_productivity_df.rename(columns={\n",
    "    \"series_id        \": \"series_id\",\n",
    "    \"       value\": \"value\"\n",
    "}, inplace=True)"
   ]
  },
  {
   "cell_type": "code",
   "execution_count": 5,
   "id": "88fe1d65-492f-4a0c-a391-d5f978b0e7d3",
   "metadata": {},
   "outputs": [
    {
     "name": "stdout",
     "output_type": "stream",
     "text": [
      "Maximum Productivity Value by Series:\n",
      "             series_id  year    value\n",
      "0    PRS30006011        2022   20.500\n",
      "1    PRS30006012        2022   17.100\n",
      "2    PRS30006013        1998  705.895\n",
      "3    PRS30006021        2010   17.700\n",
      "4    PRS30006022        2010   12.400\n",
      "..                 ...   ...      ...\n",
      "277  PRS88003192        2002  282.800\n",
      "278  PRS88003193        2024  860.838\n",
      "279  PRS88003201        2022   37.200\n",
      "280  PRS88003202        2022   28.700\n",
      "281  PRS88003203        2024  583.441\n",
      "\n",
      "[282 rows x 3 columns]\n"
     ]
    }
   ],
   "source": [
    "# Generate Productivity Summary Report\n",
    "# Step 1: Group the dataset by 'series_id' and 'year'\n",
    "# Aggregate (sum) the 'value' field for each group to handle cases\n",
    "# where multiple entries exist for the same series/year combination.\n",
    "series_yearly_summary_df = (\n",
    "    bls_productivity_df\n",
    "    .groupby([\"series_id\", \"year\"], as_index=False)[\"value\"]\n",
    "    .agg(\"sum\")\n",
    ")\n",
    "\n",
    "# Step 2: Sort the aggregated data by 'value' in descending order\n",
    "# Then, for each 'series_id', keep only the record with the highest value.\n",
    "# This effectively gives us the \"maximum value year\" for each productivity series.\n",
    "max_value_per_series_df = (\n",
    "    series_yearly_summary_df\n",
    "    .sort_values(\"value\", ascending=False)\n",
    "    .drop_duplicates(subset=\"series_id\", keep=\"first\")\n",
    "    .sort_index()\n",
    "    .reset_index(drop=True)\n",
    ")\n",
    "\n",
    "# Display the Final Report\n",
    "# The final DataFrame contains:\n",
    "#   - series_id : Unique identifier for each productivity metric\n",
    "#   - year      : Year in which the maximum value occurred\n",
    "#   - value     : The corresponding maximum value\n",
    "print(\"Maximum Productivity Value by Series:\")\n",
    "print(max_value_per_series_df)\n"
   ]
  },
  {
   "cell_type": "code",
   "execution_count": null,
   "id": "28f00915-0278-42d9-8c3f-70d2708f4076",
   "metadata": {},
   "outputs": [],
   "source": [
    "# STEP 1: Filter Productivity Data for a Specific Series and Period\n",
    "#   1. Filter rows matching the desired series_id pattern.\n",
    "#   2. Further filter for the first-quarter records (Q01) only.\n",
    "\n",
    "filtered_productivity_series_df = bls_productivity_df.loc[\n",
    "    bls_productivity_df[\"series_id\"].str.contains(\"PRS30006032\", case=False)\n",
    "]\n",
    "\n",
    "# Narrow down the dataset to first-quarter (Q01) data\n",
    "filtered_productivity_series_df = filtered_productivity_series_df[\n",
    "    filtered_productivity_series_df[\"period\"].str.contains(\"Q01\", case=False)\n",
    "]\n",
    "\n",
    "print(\"Filtered Productivity Data (PRS30006032 - Q01):\")\n",
    "print(filtered_productivity_series_df.head())\n",
    "\n",
    "\n",
    "# STEP 2: Prepare and Clean Population Data\n",
    "#   Before merging with productivity data, ensure that the population dataset\n",
    "#   has consistent numeric data types and column names suitable for merging.\n",
    "#   1. Convert 'Population' to integer \n",
    "#   2. Convert 'Year' to integer \n",
    "\n",
    "us_population_df[\"Population\"] = us_population_df[\"Population\"].astype(int)\n",
    "us_population_df[\"Year\"] = us_population_df[\"Year\"].astype(int)\n",
    "\n",
    "print(\"\\n Cleaned Population Data:\")\n",
    "print(us_population_df.head())\n",
    "\n",
    "\n",
    "# STEP 3: Merge Productivity and Population Datasets\n",
    "#   Combine both datasets to align productivity values with corresponding\n",
    "#   U.S. population values for the same year.\n",
    "#   - 'year' from productivity data matches 'Year' from population data\n",
    "#   - Left join ensures all selected productivity records remain, even\n",
    "#     if population data is missing for a particular year\n",
    "\n",
    "merged_productivity_population_df = pd.merge(\n",
    "    filtered_productivity_series_df,\n",
    "    us_population_df,\n",
    "    left_on=\"year\",\n",
    "    right_on=\"Year\",\n",
    "    how=\"left\"\n",
    ")\n",
    "\n",
    "# STEP 4: The resulting dataset contains both productivity and population metrics.\n",
    "#   - series_id:  Identifier for the productivity measure\n",
    "#   - year:       Year of observation\n",
    "#   - period:     Quarter (e.g., Q01)\n",
    "#   - value:      Productivity measurement\n",
    "#   - Population: U.S. population in that same year\n",
    "\n",
    "final_combined_df = merged_productivity_population_df[\n",
    "    [\"series_id\", \"year\", \"period\", \"value\", \"Population\"]\n",
    "]\n",
    "\n",
    "print(\"\\n Combined Productivity and Population Data:\")\n",
    "print(final_combined_df)\n"
   ]
  }
 ],
 "metadata": {
  "kernelspec": {
   "display_name": "Python 3 (ipykernel)",
   "language": "python",
   "name": "python3"
  },
  "language_info": {
   "codemirror_mode": {
    "name": "ipython",
    "version": 3
   },
   "file_extension": ".py",
   "mimetype": "text/x-python",
   "name": "python",
   "nbconvert_exporter": "python",
   "pygments_lexer": "ipython3",
   "version": "3.13.9"
  }
 },
 "nbformat": 4,
 "nbformat_minor": 5
}
